{
 "cells": [
  {
   "cell_type": "markdown",
   "id": "01acf488",
   "metadata": {
    "papermill": {
     "duration": 0.005801,
     "end_time": "2023-04-02T09:14:31.792537",
     "exception": false,
     "start_time": "2023-04-02T09:14:31.786736",
     "status": "completed"
    },
    "tags": []
   },
   "source": [
    "# Imports"
   ]
  },
  {
   "cell_type": "code",
   "execution_count": 1,
   "id": "1263b1fc",
   "metadata": {
    "execution": {
     "iopub.execute_input": "2023-04-02T09:14:31.804343Z",
     "iopub.status.busy": "2023-04-02T09:14:31.803503Z",
     "iopub.status.idle": "2023-04-02T09:14:35.431642Z",
     "shell.execute_reply": "2023-04-02T09:14:35.430567Z"
    },
    "papermill": {
     "duration": 3.637657,
     "end_time": "2023-04-02T09:14:35.434988",
     "exception": false,
     "start_time": "2023-04-02T09:14:31.797331",
     "status": "completed"
    },
    "tags": []
   },
   "outputs": [
    {
     "data": {
      "text/html": [
       "<style type='text/css'>\n",
       ".datatable table.frame { margin-bottom: 0; }\n",
       ".datatable table.frame thead { border-bottom: none; }\n",
       ".datatable table.frame tr.coltypes td {  color: #FFFFFF;  line-height: 6px;  padding: 0 0.5em;}\n",
       ".datatable .bool    { background: #DDDD99; }\n",
       ".datatable .object  { background: #565656; }\n",
       ".datatable .int     { background: #5D9E5D; }\n",
       ".datatable .float   { background: #4040CC; }\n",
       ".datatable .str     { background: #CC4040; }\n",
       ".datatable .time    { background: #40CC40; }\n",
       ".datatable .row_index {  background: var(--jp-border-color3);  border-right: 1px solid var(--jp-border-color0);  color: var(--jp-ui-font-color3);  font-size: 9px;}\n",
       ".datatable .frame tbody td { text-align: left; }\n",
       ".datatable .frame tr.coltypes .row_index {  background: var(--jp-border-color0);}\n",
       ".datatable th:nth-child(2) { padding-left: 12px; }\n",
       ".datatable .hellipsis {  color: var(--jp-cell-editor-border-color);}\n",
       ".datatable .vellipsis {  background: var(--jp-layout-color0);  color: var(--jp-cell-editor-border-color);}\n",
       ".datatable .na {  color: var(--jp-cell-editor-border-color);  font-size: 80%;}\n",
       ".datatable .sp {  opacity: 0.25;}\n",
       ".datatable .footer { font-size: 9px; }\n",
       ".datatable .frame_dimensions {  background: var(--jp-border-color3);  border-top: 1px solid var(--jp-border-color0);  color: var(--jp-ui-font-color3);  display: inline-block;  opacity: 0.6;  padding: 1px 10px 1px 5px;}\n",
       "</style>\n"
      ],
      "text/plain": [
       "<IPython.core.display.HTML object>"
      ]
     },
     "metadata": {},
     "output_type": "display_data"
    }
   ],
   "source": [
    "import numpy as np\n",
    "import pandas as pd\n",
    "import matplotlib.pyplot as plt\n",
    "import seaborn as sns\n",
    "from xgboost import XGBRegressor\n",
    "from sklearn.model_selection import KFold, StratifiedKFold, GroupKFold\n",
    "from sklearn.metrics import log_loss\n",
    "from sklearn.cluster import KMeans\n",
    "from sklearn.preprocessing import scale\n",
    "from sklearn.calibration import CalibrationDisplay\n",
    "from itertools import combinations\n",
    "from itertools import permutations\n",
    "from sklearn.model_selection import train_test_split\n",
    "from sklearn.ensemble import ExtraTreesClassifier\n",
    "import optuna\n",
    "from xgboost import XGBClassifier\n",
    "import xgboost as xgb\n",
    "import lightgbm as lgb\n",
    "from sklearn.ensemble import RandomForestClassifier\n",
    "import joblib\n",
    "from sklearn.metrics import mean_squared_error\n",
    "from catboost import CatBoostRegressor\n",
    "from sklearn.metrics import mean_squared_log_error\n",
    "from sklearn.model_selection import cross_validate\n",
    "from sklearn.model_selection import cross_val_score\n",
    "from sklearn.model_selection import KFold\n",
    "sns.set(style = 'ticks')"
   ]
  },
  {
   "cell_type": "code",
   "execution_count": 2,
   "id": "b108cc69",
   "metadata": {
    "execution": {
     "iopub.execute_input": "2023-04-02T09:14:35.450920Z",
     "iopub.status.busy": "2023-04-02T09:14:35.450562Z",
     "iopub.status.idle": "2023-04-02T09:14:37.090527Z",
     "shell.execute_reply": "2023-04-02T09:14:37.089475Z"
    },
    "papermill": {
     "duration": 1.650296,
     "end_time": "2023-04-02T09:14:37.093015",
     "exception": false,
     "start_time": "2023-04-02T09:14:35.442719",
     "status": "completed"
    },
    "tags": []
   },
   "outputs": [],
   "source": [
    "train_total = pd.read_csv('/kaggle/input/playground-series-s3e11/train.csv')\n",
    "test = pd.read_csv('/kaggle/input/playground-series-s3e11/test.csv')\n",
    "original = pd.read_csv('/kaggle/input/media-campaign-cost-prediction/train_dataset.csv')\n",
    "x_train, x_test, y_train, y_test = train_test_split(train_total.drop(['cost'], axis = 1), train_total['cost'], test_size = 0.2, stratify = train_total['cost'], random_state = 100)\n",
    "train = pd.merge(x_train, y_train, on = x_train['id'])\n",
    "hold = pd.merge(x_test, y_test, on = x_test['id'])\n",
    "train['id'] = range(0, len(train))\n",
    "def empty_callback(env):\n",
    "    pass"
   ]
  },
  {
   "cell_type": "markdown",
   "id": "aba9be31",
   "metadata": {
    "papermill": {
     "duration": 0.005428,
     "end_time": "2023-04-02T09:14:37.103632",
     "exception": false,
     "start_time": "2023-04-02T09:14:37.098204",
     "status": "completed"
    },
    "tags": []
   },
   "source": [
    "# Feature Engineering/Selection"
   ]
  },
  {
   "cell_type": "code",
   "execution_count": 3,
   "id": "1b31a173",
   "metadata": {
    "execution": {
     "iopub.execute_input": "2023-04-02T09:14:37.114561Z",
     "iopub.status.busy": "2023-04-02T09:14:37.114243Z",
     "iopub.status.idle": "2023-04-02T09:14:37.619061Z",
     "shell.execute_reply": "2023-04-02T09:14:37.618050Z"
    },
    "papermill": {
     "duration": 0.514017,
     "end_time": "2023-04-02T09:14:37.622501",
     "exception": false,
     "start_time": "2023-04-02T09:14:37.108484",
     "status": "completed"
    },
    "tags": []
   },
   "outputs": [
    {
     "data": {
      "text/html": [
       "<div>\n",
       "<style scoped>\n",
       "    .dataframe tbody tr th:only-of-type {\n",
       "        vertical-align: middle;\n",
       "    }\n",
       "\n",
       "    .dataframe tbody tr th {\n",
       "        vertical-align: top;\n",
       "    }\n",
       "\n",
       "    .dataframe thead th {\n",
       "        text-align: right;\n",
       "    }\n",
       "</style>\n",
       "<table border=\"1\" class=\"dataframe\">\n",
       "  <thead>\n",
       "    <tr style=\"text-align: right;\">\n",
       "      <th></th>\n",
       "      <th>store_sqft</th>\n",
       "      <th>avg_total_children</th>\n",
       "      <th>avg_store_sales(in millions)</th>\n",
       "      <th>avg_units_per_case</th>\n",
       "    </tr>\n",
       "  </thead>\n",
       "  <tbody>\n",
       "    <tr>\n",
       "      <th>21215.0</th>\n",
       "      <td>21215.0</td>\n",
       "      <td>2.376341</td>\n",
       "      <td>6.429552</td>\n",
       "      <td>18.966716</td>\n",
       "    </tr>\n",
       "    <tr>\n",
       "      <th>27694.0</th>\n",
       "      <td>27694.0</td>\n",
       "      <td>2.365320</td>\n",
       "      <td>6.491849</td>\n",
       "      <td>19.027253</td>\n",
       "    </tr>\n",
       "    <tr>\n",
       "      <th>30268.0</th>\n",
       "      <td>30268.0</td>\n",
       "      <td>2.648062</td>\n",
       "      <td>6.498345</td>\n",
       "      <td>18.915053</td>\n",
       "    </tr>\n",
       "    <tr>\n",
       "      <th>23593.0</th>\n",
       "      <td>23593.0</td>\n",
       "      <td>2.676023</td>\n",
       "      <td>6.478760</td>\n",
       "      <td>18.942552</td>\n",
       "    </tr>\n",
       "    <tr>\n",
       "      <th>23598.0</th>\n",
       "      <td>23598.0</td>\n",
       "      <td>2.372495</td>\n",
       "      <td>6.536925</td>\n",
       "      <td>19.009008</td>\n",
       "    </tr>\n",
       "  </tbody>\n",
       "</table>\n",
       "</div>"
      ],
      "text/plain": [
       "         store_sqft  avg_total_children  avg_store_sales(in millions)  \\\n",
       "21215.0     21215.0            2.376341                      6.429552   \n",
       "27694.0     27694.0            2.365320                      6.491849   \n",
       "30268.0     30268.0            2.648062                      6.498345   \n",
       "23593.0     23593.0            2.676023                      6.478760   \n",
       "23598.0     23598.0            2.372495                      6.536925   \n",
       "\n",
       "         avg_units_per_case  \n",
       "21215.0           18.966716  \n",
       "27694.0           19.027253  \n",
       "30268.0           18.915053  \n",
       "23593.0           18.942552  \n",
       "23598.0           19.009008  "
      ]
     },
     "execution_count": 3,
     "metadata": {},
     "output_type": "execute_result"
    }
   ],
   "source": [
    "FEATS = ['total_children', 'num_children_at_home', 'avg_cars_at home(approx).1', 'store_sqft', 'coffee_bar', 'video_store', 'florist', 'prepared_food']\n",
    "INIT_FEATS = ['total_children', 'num_children_at_home', 'avg_cars_at home(approx).1', 'unit_sales(in millions)', 'store_sales(in millions)', 'units_per_case', 'store_sqft', 'coffee_bar', 'video_store', 'florist', 'prepared_food', 'average_children', 'average_units', 'average_sales', 'gross_weight']\n",
    "\n",
    "CAT_FEATS = FEATS.copy()\n",
    "avg_df = pd.DataFrame(index = train.store_sqft.unique())\n",
    "avg_df['store_sqft'] = avg_df.index\n",
    "\n",
    "avg_df_test = pd.DataFrame(index = test.store_sqft.unique())\n",
    "avg_df_test['store_sqft'] = avg_df_test.index\n",
    "\n",
    "avg_df_hold = pd.DataFrame(index = hold.store_sqft.unique())\n",
    "avg_df_hold['store_sqft'] = avg_df_hold.index\n",
    "\n",
    "avg_df_original = pd.DataFrame(index = original.store_sqft.unique())\n",
    "avg_df_original['store_sqft'] = avg_df_original.index\n",
    "\n",
    "concat_train_hold_test = pd.concat([train, hold, test], ignore_index = True)\n",
    "for feature in INIT_FEATS:\n",
    "    if feature in ['units_per_case', 'store_sales(in millions)', 'total_children']:\n",
    "        avg_df[f'avg_{feature}'] = concat_train_hold_test.groupby('store_sqft')[feature].mean()\n",
    "        avg_df_test[f'avg_{feature}'] = concat_train_hold_test.groupby('store_sqft')[feature].mean()\n",
    "        avg_df_hold[f'avg_{feature}'] = concat_train_hold_test.groupby('store_sqft')[feature].mean()\n",
    "        avg_df_original[f'avg_{feature}'] = concat_train_hold_test.groupby('store_sqft')[feature].mean()\n",
    "        \n",
    "        CAT_FEATS.append(f'avg_{feature}')\n",
    "        \n",
    "train = pd.merge(train, avg_df, on = 'store_sqft', how = 'left')\n",
    "hold = pd.merge(hold, avg_df_hold, on = 'store_sqft', how = 'left')\n",
    "test = pd.merge(test, avg_df_test, on = 'store_sqft', how = 'left')\n",
    "original = pd.merge(original, avg_df_original, on = 'store_sqft', how = 'left')\n",
    "avg_df.head()"
   ]
  },
  {
   "cell_type": "code",
   "execution_count": 4,
   "id": "df8e084b",
   "metadata": {
    "execution": {
     "iopub.execute_input": "2023-04-02T09:14:37.639206Z",
     "iopub.status.busy": "2023-04-02T09:14:37.638728Z",
     "iopub.status.idle": "2023-04-02T09:14:37.648564Z",
     "shell.execute_reply": "2023-04-02T09:14:37.646032Z"
    },
    "papermill": {
     "duration": 0.021414,
     "end_time": "2023-04-02T09:14:37.651911",
     "exception": false,
     "start_time": "2023-04-02T09:14:37.630497",
     "status": "completed"
    },
    "tags": []
   },
   "outputs": [
    {
     "data": {
      "text/plain": [
       "['total_children',\n",
       " 'num_children_at_home',\n",
       " 'avg_cars_at home(approx).1',\n",
       " 'store_sqft',\n",
       " 'coffee_bar',\n",
       " 'video_store',\n",
       " 'florist',\n",
       " 'prepared_food']"
      ]
     },
     "execution_count": 4,
     "metadata": {},
     "output_type": "execute_result"
    }
   ],
   "source": [
    "FEATS"
   ]
  },
  {
   "cell_type": "code",
   "execution_count": 5,
   "id": "4c6a4219",
   "metadata": {
    "execution": {
     "iopub.execute_input": "2023-04-02T09:14:37.667583Z",
     "iopub.status.busy": "2023-04-02T09:14:37.667159Z",
     "iopub.status.idle": "2023-04-02T09:14:37.673572Z",
     "shell.execute_reply": "2023-04-02T09:14:37.672700Z"
    },
    "papermill": {
     "duration": 0.020168,
     "end_time": "2023-04-02T09:14:37.679183",
     "exception": false,
     "start_time": "2023-04-02T09:14:37.659015",
     "status": "completed"
    },
    "tags": []
   },
   "outputs": [
    {
     "data": {
      "text/plain": [
       "['total_children',\n",
       " 'num_children_at_home',\n",
       " 'avg_cars_at home(approx).1',\n",
       " 'store_sqft',\n",
       " 'coffee_bar',\n",
       " 'video_store',\n",
       " 'florist',\n",
       " 'prepared_food',\n",
       " 'avg_total_children',\n",
       " 'avg_store_sales(in millions)',\n",
       " 'avg_units_per_case']"
      ]
     },
     "execution_count": 5,
     "metadata": {},
     "output_type": "execute_result"
    }
   ],
   "source": [
    "CAT_FEATS"
   ]
  },
  {
   "cell_type": "code",
   "execution_count": 6,
   "id": "f4a2c614",
   "metadata": {
    "execution": {
     "iopub.execute_input": "2023-04-02T09:14:37.695532Z",
     "iopub.status.busy": "2023-04-02T09:14:37.695108Z",
     "iopub.status.idle": "2023-04-02T09:14:37.786719Z",
     "shell.execute_reply": "2023-04-02T09:14:37.785579Z"
    },
    "papermill": {
     "duration": 0.103569,
     "end_time": "2023-04-02T09:14:37.790119",
     "exception": false,
     "start_time": "2023-04-02T09:14:37.686550",
     "status": "completed"
    },
    "tags": []
   },
   "outputs": [],
   "source": [
    "train[FEATS] = train[FEATS].round(2)\n",
    "original[FEATS] = original[FEATS].round(2)"
   ]
  },
  {
   "cell_type": "code",
   "execution_count": 7,
   "id": "7f726fe6",
   "metadata": {
    "execution": {
     "iopub.execute_input": "2023-04-02T09:14:37.807165Z",
     "iopub.status.busy": "2023-04-02T09:14:37.806798Z",
     "iopub.status.idle": "2023-04-02T09:14:37.846907Z",
     "shell.execute_reply": "2023-04-02T09:14:37.845993Z"
    },
    "papermill": {
     "duration": 0.051215,
     "end_time": "2023-04-02T09:14:37.849778",
     "exception": false,
     "start_time": "2023-04-02T09:14:37.798563",
     "status": "completed"
    },
    "tags": []
   },
   "outputs": [
    {
     "data": {
      "text/html": [
       "<div>\n",
       "<style scoped>\n",
       "    .dataframe tbody tr th:only-of-type {\n",
       "        vertical-align: middle;\n",
       "    }\n",
       "\n",
       "    .dataframe tbody tr th {\n",
       "        vertical-align: top;\n",
       "    }\n",
       "\n",
       "    .dataframe thead th {\n",
       "        text-align: right;\n",
       "    }\n",
       "</style>\n",
       "<table border=\"1\" class=\"dataframe\">\n",
       "  <thead>\n",
       "    <tr style=\"text-align: right;\">\n",
       "      <th></th>\n",
       "      <th>key_0</th>\n",
       "      <th>id</th>\n",
       "      <th>store_sales(in millions)</th>\n",
       "      <th>unit_sales(in millions)</th>\n",
       "      <th>total_children</th>\n",
       "      <th>num_children_at_home</th>\n",
       "      <th>avg_cars_at home(approx).1</th>\n",
       "      <th>gross_weight</th>\n",
       "      <th>recyclable_package</th>\n",
       "      <th>low_fat</th>\n",
       "      <th>...</th>\n",
       "      <th>store_sqft</th>\n",
       "      <th>coffee_bar</th>\n",
       "      <th>video_store</th>\n",
       "      <th>salad_bar</th>\n",
       "      <th>prepared_food</th>\n",
       "      <th>florist</th>\n",
       "      <th>cost</th>\n",
       "      <th>avg_total_children</th>\n",
       "      <th>avg_store_sales(in millions)</th>\n",
       "      <th>avg_units_per_case</th>\n",
       "    </tr>\n",
       "  </thead>\n",
       "  <tbody>\n",
       "    <tr>\n",
       "      <th>0</th>\n",
       "      <td>141056</td>\n",
       "      <td>0</td>\n",
       "      <td>5.48</td>\n",
       "      <td>4.0</td>\n",
       "      <td>4.0</td>\n",
       "      <td>1.0</td>\n",
       "      <td>2.0</td>\n",
       "      <td>10.1</td>\n",
       "      <td>1.0</td>\n",
       "      <td>0.0</td>\n",
       "      <td>...</td>\n",
       "      <td>21215.0</td>\n",
       "      <td>1.0</td>\n",
       "      <td>0.0</td>\n",
       "      <td>0.0</td>\n",
       "      <td>0.0</td>\n",
       "      <td>0.0</td>\n",
       "      <td>69.63</td>\n",
       "      <td>2.376341</td>\n",
       "      <td>6.429552</td>\n",
       "      <td>18.966716</td>\n",
       "    </tr>\n",
       "    <tr>\n",
       "      <th>1</th>\n",
       "      <td>39904</td>\n",
       "      <td>1</td>\n",
       "      <td>6.76</td>\n",
       "      <td>2.0</td>\n",
       "      <td>1.0</td>\n",
       "      <td>0.0</td>\n",
       "      <td>2.0</td>\n",
       "      <td>17.0</td>\n",
       "      <td>0.0</td>\n",
       "      <td>0.0</td>\n",
       "      <td>...</td>\n",
       "      <td>27694.0</td>\n",
       "      <td>1.0</td>\n",
       "      <td>1.0</td>\n",
       "      <td>1.0</td>\n",
       "      <td>1.0</td>\n",
       "      <td>1.0</td>\n",
       "      <td>66.27</td>\n",
       "      <td>2.365320</td>\n",
       "      <td>6.491849</td>\n",
       "      <td>19.027253</td>\n",
       "    </tr>\n",
       "    <tr>\n",
       "      <th>2</th>\n",
       "      <td>148590</td>\n",
       "      <td>2</td>\n",
       "      <td>4.40</td>\n",
       "      <td>2.0</td>\n",
       "      <td>5.0</td>\n",
       "      <td>0.0</td>\n",
       "      <td>3.0</td>\n",
       "      <td>17.9</td>\n",
       "      <td>1.0</td>\n",
       "      <td>0.0</td>\n",
       "      <td>...</td>\n",
       "      <td>21215.0</td>\n",
       "      <td>1.0</td>\n",
       "      <td>0.0</td>\n",
       "      <td>0.0</td>\n",
       "      <td>0.0</td>\n",
       "      <td>0.0</td>\n",
       "      <td>138.53</td>\n",
       "      <td>2.376341</td>\n",
       "      <td>6.429552</td>\n",
       "      <td>18.966716</td>\n",
       "    </tr>\n",
       "    <tr>\n",
       "      <th>3</th>\n",
       "      <td>10069</td>\n",
       "      <td>3</td>\n",
       "      <td>2.70</td>\n",
       "      <td>3.0</td>\n",
       "      <td>4.0</td>\n",
       "      <td>0.0</td>\n",
       "      <td>1.0</td>\n",
       "      <td>14.0</td>\n",
       "      <td>1.0</td>\n",
       "      <td>1.0</td>\n",
       "      <td>...</td>\n",
       "      <td>30268.0</td>\n",
       "      <td>0.0</td>\n",
       "      <td>0.0</td>\n",
       "      <td>0.0</td>\n",
       "      <td>0.0</td>\n",
       "      <td>0.0</td>\n",
       "      <td>93.07</td>\n",
       "      <td>2.648062</td>\n",
       "      <td>6.498345</td>\n",
       "      <td>18.915053</td>\n",
       "    </tr>\n",
       "    <tr>\n",
       "      <th>4</th>\n",
       "      <td>260930</td>\n",
       "      <td>4</td>\n",
       "      <td>8.85</td>\n",
       "      <td>3.0</td>\n",
       "      <td>2.0</td>\n",
       "      <td>2.0</td>\n",
       "      <td>2.0</td>\n",
       "      <td>17.9</td>\n",
       "      <td>1.0</td>\n",
       "      <td>0.0</td>\n",
       "      <td>...</td>\n",
       "      <td>23593.0</td>\n",
       "      <td>0.0</td>\n",
       "      <td>0.0</td>\n",
       "      <td>0.0</td>\n",
       "      <td>0.0</td>\n",
       "      <td>0.0</td>\n",
       "      <td>55.22</td>\n",
       "      <td>2.676023</td>\n",
       "      <td>6.478760</td>\n",
       "      <td>18.942552</td>\n",
       "    </tr>\n",
       "  </tbody>\n",
       "</table>\n",
       "<p>5 rows × 21 columns</p>\n",
       "</div>"
      ],
      "text/plain": [
       "    key_0  id  store_sales(in millions)  unit_sales(in millions)  \\\n",
       "0  141056   0                      5.48                      4.0   \n",
       "1   39904   1                      6.76                      2.0   \n",
       "2  148590   2                      4.40                      2.0   \n",
       "3   10069   3                      2.70                      3.0   \n",
       "4  260930   4                      8.85                      3.0   \n",
       "\n",
       "   total_children  num_children_at_home  avg_cars_at home(approx).1  \\\n",
       "0             4.0                   1.0                         2.0   \n",
       "1             1.0                   0.0                         2.0   \n",
       "2             5.0                   0.0                         3.0   \n",
       "3             4.0                   0.0                         1.0   \n",
       "4             2.0                   2.0                         2.0   \n",
       "\n",
       "   gross_weight  recyclable_package  low_fat  ...  store_sqft  coffee_bar  \\\n",
       "0          10.1                 1.0      0.0  ...     21215.0         1.0   \n",
       "1          17.0                 0.0      0.0  ...     27694.0         1.0   \n",
       "2          17.9                 1.0      0.0  ...     21215.0         1.0   \n",
       "3          14.0                 1.0      1.0  ...     30268.0         0.0   \n",
       "4          17.9                 1.0      0.0  ...     23593.0         0.0   \n",
       "\n",
       "   video_store  salad_bar  prepared_food  florist    cost  avg_total_children  \\\n",
       "0          0.0        0.0            0.0      0.0   69.63            2.376341   \n",
       "1          1.0        1.0            1.0      1.0   66.27            2.365320   \n",
       "2          0.0        0.0            0.0      0.0  138.53            2.376341   \n",
       "3          0.0        0.0            0.0      0.0   93.07            2.648062   \n",
       "4          0.0        0.0            0.0      0.0   55.22            2.676023   \n",
       "\n",
       "   avg_store_sales(in millions)  avg_units_per_case  \n",
       "0                      6.429552           18.966716  \n",
       "1                      6.491849           19.027253  \n",
       "2                      6.429552           18.966716  \n",
       "3                      6.498345           18.915053  \n",
       "4                      6.478760           18.942552  \n",
       "\n",
       "[5 rows x 21 columns]"
      ]
     },
     "execution_count": 7,
     "metadata": {},
     "output_type": "execute_result"
    }
   ],
   "source": [
    "train.head()"
   ]
  },
  {
   "cell_type": "code",
   "execution_count": 8,
   "id": "b3fc4c99",
   "metadata": {
    "execution": {
     "iopub.execute_input": "2023-04-02T09:14:37.867618Z",
     "iopub.status.busy": "2023-04-02T09:14:37.867263Z",
     "iopub.status.idle": "2023-04-02T09:14:37.901350Z",
     "shell.execute_reply": "2023-04-02T09:14:37.900456Z"
    },
    "papermill": {
     "duration": 0.04576,
     "end_time": "2023-04-02T09:14:37.903912",
     "exception": false,
     "start_time": "2023-04-02T09:14:37.858152",
     "status": "completed"
    },
    "tags": []
   },
   "outputs": [],
   "source": [
    "num_bins = 5\n",
    "train['bins'] = pd.cut(train['cost'], bins = num_bins).astype('category')\n",
    "bins = train['bins'].unique()\n",
    "bin_map = {}\n",
    "for i, bin in enumerate(bins):\n",
    "    bin_map[bin] = i\n",
    "\n",
    "train['bins'] = train['bins'].map(bin_map)"
   ]
  },
  {
   "cell_type": "markdown",
   "id": "fe85bfd4",
   "metadata": {
    "papermill": {
     "duration": 0.005931,
     "end_time": "2023-04-02T09:14:37.917789",
     "exception": false,
     "start_time": "2023-04-02T09:14:37.911858",
     "status": "completed"
    },
    "tags": []
   },
   "source": [
    "# Train"
   ]
  },
  {
   "cell_type": "code",
   "execution_count": 9,
   "id": "5f944af5",
   "metadata": {
    "execution": {
     "iopub.execute_input": "2023-04-02T09:14:37.940983Z",
     "iopub.status.busy": "2023-04-02T09:14:37.940524Z",
     "iopub.status.idle": "2023-04-02T09:18:36.658312Z",
     "shell.execute_reply": "2023-04-02T09:18:36.657014Z"
    },
    "papermill": {
     "duration": 238.733819,
     "end_time": "2023-04-02T09:18:36.660611",
     "exception": false,
     "start_time": "2023-04-02T09:14:37.926792",
     "status": "completed"
    },
    "tags": []
   },
   "outputs": [
    {
     "name": "stdout",
     "output_type": "stream",
     "text": [
      "\n",
      "Fold 1:\n",
      "0:\tlearn: 0.3154819\ttest: 0.3144880\tbest: 0.3144880 (0)\ttotal: 20.8ms\tremaining: 3m 28s\n",
      "bestTest = 0.2933100974\n",
      "bestIteration = 809\n",
      "Shrink model to first 810 iterations.\n",
      "model cat trained\n",
      "model xgb trained\n",
      "\n",
      "Fold 2:\n",
      "0:\tlearn: 0.3153374\ttest: 0.3153550\tbest: 0.3153550 (0)\ttotal: 16.2ms\tremaining: 2m 41s\n",
      "1000:\tlearn: 0.2994342\ttest: 0.2930331\tbest: 0.2930329 (988)\ttotal: 16.6s\tremaining: 2m 29s\n",
      "bestTest = 0.2930297948\n",
      "bestIteration = 1277\n",
      "Shrink model to first 1278 iterations.\n",
      "model cat trained\n",
      "model xgb trained\n",
      "\n",
      "Fold 3:\n",
      "0:\tlearn: 0.3152626\ttest: 0.3155185\tbest: 0.3155185 (0)\ttotal: 16.2ms\tremaining: 2m 41s\n",
      "1000:\tlearn: 0.2989951\ttest: 0.2951089\tbest: 0.2951078 (909)\ttotal: 16.7s\tremaining: 2m 30s\n",
      "bestTest = 0.2951077829\n",
      "bestIteration = 909\n",
      "Shrink model to first 910 iterations.\n",
      "model cat trained\n",
      "model xgb trained\n",
      "\n",
      "Fold 4:\n",
      "0:\tlearn: 0.3152932\ttest: 0.3153934\tbest: 0.3153934 (0)\ttotal: 16.1ms\tremaining: 2m 41s\n",
      "bestTest = 0.2943059523\n",
      "bestIteration = 586\n",
      "Shrink model to first 587 iterations.\n",
      "model cat trained\n",
      "model xgb trained\n",
      "\n",
      "Fold 5:\n",
      "0:\tlearn: 0.3152545\ttest: 0.3156138\tbest: 0.3156138 (0)\ttotal: 16.1ms\tremaining: 2m 41s\n",
      "1000:\tlearn: 0.2992339\ttest: 0.2939593\tbest: 0.2939578 (948)\ttotal: 16.1s\tremaining: 2m 24s\n",
      "bestTest = 0.2939577575\n",
      "bestIteration = 948\n",
      "Shrink model to first 949 iterations.\n",
      "model cat trained\n",
      "model xgb trained\n"
     ]
    }
   ],
   "source": [
    "ALL_USERS = train.id.unique()\n",
    "gkf = GroupKFold(n_splits = 5)\n",
    "oof = pd.DataFrame(index = ALL_USERS)\n",
    "\n",
    "#hyperparams\n",
    "cat_params = {\n",
    "    'iterations': 10000,\n",
    "    'learning_rate': 0.07,\n",
    "    'depth': 11,\n",
    "    'l2_leaf_reg': 8,\n",
    "    'random_strength': 0.5,\n",
    "    'loss_function': 'RMSE',\n",
    "    'eval_metric': 'RMSE',\n",
    "    'task_type': 'GPU',\n",
    "    'border_count': 128,\n",
    "    'verbose': 1000, \n",
    "    'early_stopping_rounds': 100,\n",
    "    'use_best_model': True,\n",
    "    'random_state': 57,\n",
    "}\n",
    "\n",
    "xgb_params = {\n",
    "    'objective': 'reg:squarederror',\n",
    "    'tree_method': 'gpu_hist',\n",
    "    'eval_metric': 'rmse',\n",
    "    'seed': 42,\n",
    "    'n_estimators': 1000,\n",
    "    'learning_rate': 0.14774138317002128,\n",
    "    'early_stopping_rounds': 1000,\n",
    "    'max_depth': 11,\n",
    "    'subsample': 0.90,\n",
    "    'colsample_bytree': 0.90,\n",
    "    'alpha': 4,\n",
    "    'lambda': 5\n",
    "}\n",
    "\n",
    "targets = np.log(train.cost + 1)\n",
    "n_splits = 5\n",
    "kf = KFold(n_splits = 5, shuffle = True, random_state = 100)\n",
    "skf = StratifiedKFold(n_splits = 5, shuffle = True, random_state = 100)\n",
    "num_trees_cat = []\n",
    "num_trees_xgb = []\n",
    "\n",
    "for i, (train_index, test_index) in enumerate(skf.split(X = train, y = train['bins'], groups = train.index)):\n",
    "    print(f'\\nFold {i + 1}:')\n",
    "    train_x = train.iloc[train_index]\n",
    "    train_x = pd.concat([train_x, original])\n",
    "    train_gems = train_x.index.values\n",
    "    train_y = targets.loc[train_gems]\n",
    "    \n",
    "    valid_x = train.iloc[test_index]\n",
    "    valid_gems = valid_x.index.values\n",
    "    valid_y = targets.loc[valid_gems]\n",
    "    \n",
    "    model_dict = {\n",
    "        'cat': [CatBoostRegressor(**cat_params), {'eval_set': [(valid_x[CAT_FEATS].astype('float32'), valid_y)], 'plot': False}, CAT_FEATS],\n",
    "        'xgb': [XGBRegressor(**xgb_params), {'eval_set': [(valid_x[FEATS].astype('float32'), valid_y)], 'verbose': 0}, FEATS],\n",
    "    }\n",
    "    \n",
    "    all_models = model_dict.keys()\n",
    "    \n",
    "    for model in all_models:\n",
    "        clf = model_dict[model][0]\n",
    "        clf.fit(train_x[model_dict[model][2]].astype('float32'), train_y, **model_dict[model][1])\n",
    "        \n",
    "        oof.loc[valid_gems, f'{model}_prediction'] = np.exp(clf.predict(valid_x[model_dict[model][2]].astype('float32'))) - 1\n",
    "        print(f'model {model} trained')\n",
    "        if(model == 'cat'):\n",
    "            num_trees_cat.append(clf.get_best_iteration())\n",
    "        if(model == 'xgb'):\n",
    "            num_trees_xgb.append(clf.best_ntree_limit)"
   ]
  },
  {
   "cell_type": "markdown",
   "id": "7049b107",
   "metadata": {
    "papermill": {
     "duration": 0.00648,
     "end_time": "2023-04-02T09:18:36.674652",
     "exception": false,
     "start_time": "2023-04-02T09:18:36.668172",
     "status": "completed"
    },
    "tags": []
   },
   "source": [
    "# Stratified CV"
   ]
  },
  {
   "cell_type": "code",
   "execution_count": 10,
   "id": "ff710d38",
   "metadata": {
    "execution": {
     "iopub.execute_input": "2023-04-02T09:18:36.689441Z",
     "iopub.status.busy": "2023-04-02T09:18:36.689091Z",
     "iopub.status.idle": "2023-04-02T09:18:36.739661Z",
     "shell.execute_reply": "2023-04-02T09:18:36.737946Z"
    },
    "papermill": {
     "duration": 0.060926,
     "end_time": "2023-04-02T09:18:36.742133",
     "exception": false,
     "start_time": "2023-04-02T09:18:36.681207",
     "status": "completed"
    },
    "tags": []
   },
   "outputs": [
    {
     "name": "stdout",
     "output_type": "stream",
     "text": [
      "cat = 0.2939432193327111\n",
      "xgb = 0.2940405102871711\n",
      "ensemble = 0.2939309693837006\n"
     ]
    }
   ],
   "source": [
    "from sklearn.metrics import mean_squared_log_error\n",
    "rmses = {}\n",
    "targets = train.cost\n",
    "for model in all_models:\n",
    "    rmses[f\"{model}_prediction\"] = mean_squared_log_error(targets, oof[f'{model}_prediction'], squared = False)\n",
    "    print(f'{model} = {rmses[f\"{model}_prediction\"]}')\n",
    "    \n",
    "oof['prediction'] = 0\n",
    "rmse_inv_sum = 0\n",
    "for model in all_models:\n",
    "    if model in ['xgb', 'lgb', 'cat']:\n",
    "        oof['prediction'] = oof['prediction'] + oof[f'{model}_prediction'] * (1 / rmses[f'{model}_prediction'])\n",
    "        rmse_inv_sum += 1 / rmses[f'{model}_prediction']\n",
    "        \n",
    "#print('xgb = 0.2930786590554832')\n",
    "oof['prediction'] = oof['prediction'] / rmse_inv_sum\n",
    "print(f'ensemble = {mean_squared_log_error(targets, oof[f\"prediction\"], squared = False)}')"
   ]
  },
  {
   "cell_type": "code",
   "execution_count": 11,
   "id": "1983fe3c",
   "metadata": {
    "execution": {
     "iopub.execute_input": "2023-04-02T09:18:36.758517Z",
     "iopub.status.busy": "2023-04-02T09:18:36.756713Z",
     "iopub.status.idle": "2023-04-02T09:18:38.628988Z",
     "shell.execute_reply": "2023-04-02T09:18:38.627750Z"
    },
    "papermill": {
     "duration": 1.882858,
     "end_time": "2023-04-02T09:18:38.631747",
     "exception": false,
     "start_time": "2023-04-02T09:18:36.748889",
     "status": "completed"
    },
    "tags": []
   },
   "outputs": [
    {
     "data": {
      "image/png": "[encoded data removed]",
      "text/plain": [
       "<Figure size 1700x800 with 2 Axes>"
      ]
     },
     "metadata": {},
     "output_type": "display_data"
    }
   ],
   "source": [
    "fig, ax = plt.subplots(figsize = (17, 8))\n",
    "sns.histplot(data = oof, x = 'prediction', bins = 100, ax = ax, kde = True)\n",
    "ax2 = ax.twinx()\n",
    "sns.boxplot(data = oof, x = 'prediction', ax = ax2, boxprops = dict(alpha = .7))\n",
    "ax2.set(ylim = (-.5, 10))\n",
    "plt.suptitle('Cost countplot and Boxplot for my train predictions', fontsize = 20)\n",
    "ax.grid(True)\n",
    "plt.show()"
   ]
  },
  {
   "cell_type": "markdown",
   "id": "79c606e0",
   "metadata": {
    "papermill": {
     "duration": 0.007642,
     "end_time": "2023-04-02T09:18:38.647157",
     "exception": false,
     "start_time": "2023-04-02T09:18:38.639515",
     "status": "completed"
    },
    "tags": []
   },
   "source": [
    "# Hold"
   ]
  },
  {
   "cell_type": "code",
   "execution_count": 12,
   "id": "ce5c0fbc",
   "metadata": {
    "execution": {
     "iopub.execute_input": "2023-04-02T09:18:38.663896Z",
     "iopub.status.busy": "2023-04-02T09:18:38.663540Z",
     "iopub.status.idle": "2023-04-02T09:19:14.008405Z",
     "shell.execute_reply": "2023-04-02T09:19:14.007227Z"
    },
    "papermill": {
     "duration": 35.364492,
     "end_time": "2023-04-02T09:19:14.019021",
     "exception": false,
     "start_time": "2023-04-02T09:18:38.654529",
     "status": "completed"
    },
    "tags": []
   },
   "outputs": [
    {
     "name": "stdout",
     "output_type": "stream",
     "text": [
      "CAT : [809, 1277, 909, 586, 948]; mean : 905.8\n",
      "XGB : [970, 984, 958, 963, 997]; mean : 974.4\n",
      "\n",
      "0:\tlearn: 0.3149350\ttotal: 16.5ms\tremaining: 18.7s\n",
      "1000:\tlearn: 0.2912935\ttotal: 16s\tremaining: 2.09s\n",
      "1131:\tlearn: 0.2912778\ttotal: 17.9s\tremaining: 0us\n",
      "\n",
      "hold cat prediction: 0.2935548874109697\n",
      "\n",
      "hold xgb prediction: 0.2935512255175029\n",
      "\n",
      "hold ensemble prediction: 0.2934843725978681\n"
     ]
    }
   ],
   "source": [
    "print(f'CAT : {num_trees_cat}; mean : {np.array(num_trees_cat).mean()}')\n",
    "print(f'XGB : {num_trees_xgb}; mean : {np.array(num_trees_xgb).mean()}')\n",
    "print()\n",
    "hold_num_trees_cat = int(np.array(num_trees_cat).mean() * 1.25)\n",
    "hold_num_trees_xgb = int(np.array(num_trees_xgb).mean() * 1.25)\n",
    "\n",
    "#cat_model\n",
    "cat_params2 = cat_params.copy()\n",
    "cat_params2.pop('iterations')\n",
    "cat_params2.pop('early_stopping_rounds')\n",
    "cat_params2.pop('use_best_model')\n",
    "new_params = {\n",
    "    'iterations': hold_num_trees_cat,\n",
    "}\n",
    "\n",
    "hold_cat = CatBoostRegressor(**cat_params2, **new_params)\n",
    "hold_cat.fit(train[CAT_FEATS].astype('float32'), np.log(train.cost + 1), plot = False)\n",
    "\n",
    "#xgb_model\n",
    "xgb_params2 = xgb_params.copy()\n",
    "xgb_params2.pop('early_stopping_rounds')\n",
    "xgb_params2['n_estimators'] = hold_num_trees_xgb\n",
    "\n",
    "hold_xgb = XGBRegressor(**xgb_params2)\n",
    "hold_xgb.fit(train[FEATS].astype('float32'), np.log(train.cost + 1))\n",
    "\n",
    "#hold_oof\n",
    "hold_pred = pd.DataFrame(index = hold.id)\n",
    "\n",
    "hold_pred['cat_predictions'] = np.exp(hold_cat.predict(hold[CAT_FEATS].astype('float32'))) - 1\n",
    "hold_pred['xgb_predictions'] = np.exp(hold_xgb.predict(hold[FEATS].astype('float32'))) - 1\n",
    "hold_pred['predictions'] = (hold_pred['xgb_predictions'] + hold_pred['cat_predictions']) / 2\n",
    "\n",
    "#rmsles\n",
    "print(f\"\\nhold cat prediction: {mean_squared_log_error(hold.cost, hold_pred['cat_predictions'], squared  = False)}\")\n",
    "print(f\"\\nhold xgb prediction: {mean_squared_log_error(hold.cost, hold_pred['xgb_predictions'], squared  = False)}\")\n",
    "print(f\"\\nhold ensemble prediction: {mean_squared_log_error(hold.cost, hold_pred['predictions'], squared  = False)}\")\n",
    "\n"
   ]
  },
  {
   "cell_type": "code",
   "execution_count": 13,
   "id": "bb10e54e",
   "metadata": {
    "execution": {
     "iopub.execute_input": "2023-04-02T09:19:14.037054Z",
     "iopub.status.busy": "2023-04-02T09:19:14.036685Z",
     "iopub.status.idle": "2023-04-02T09:19:14.049745Z",
     "shell.execute_reply": "2023-04-02T09:19:14.049017Z"
    },
    "papermill": {
     "duration": 0.024144,
     "end_time": "2023-04-02T09:19:14.051811",
     "exception": false,
     "start_time": "2023-04-02T09:19:14.027667",
     "status": "completed"
    },
    "tags": []
   },
   "outputs": [
    {
     "data": {
      "text/html": [
       "<div>\n",
       "<style scoped>\n",
       "    .dataframe tbody tr th:only-of-type {\n",
       "        vertical-align: middle;\n",
       "    }\n",
       "\n",
       "    .dataframe tbody tr th {\n",
       "        vertical-align: top;\n",
       "    }\n",
       "\n",
       "    .dataframe thead th {\n",
       "        text-align: right;\n",
       "    }\n",
       "</style>\n",
       "<table border=\"1\" class=\"dataframe\">\n",
       "  <thead>\n",
       "    <tr style=\"text-align: right;\">\n",
       "      <th></th>\n",
       "      <th>cat_predictions</th>\n",
       "      <th>xgb_predictions</th>\n",
       "      <th>predictions</th>\n",
       "    </tr>\n",
       "    <tr>\n",
       "      <th>id</th>\n",
       "      <th></th>\n",
       "      <th></th>\n",
       "      <th></th>\n",
       "    </tr>\n",
       "  </thead>\n",
       "  <tbody>\n",
       "    <tr>\n",
       "      <th>191948</th>\n",
       "      <td>112.643188</td>\n",
       "      <td>112.884872</td>\n",
       "      <td>112.764030</td>\n",
       "    </tr>\n",
       "    <tr>\n",
       "      <th>143368</th>\n",
       "      <td>91.411422</td>\n",
       "      <td>91.996666</td>\n",
       "      <td>91.704044</td>\n",
       "    </tr>\n",
       "    <tr>\n",
       "      <th>16664</th>\n",
       "      <td>99.734901</td>\n",
       "      <td>99.682533</td>\n",
       "      <td>99.708717</td>\n",
       "    </tr>\n",
       "    <tr>\n",
       "      <th>49607</th>\n",
       "      <td>99.685030</td>\n",
       "      <td>99.669617</td>\n",
       "      <td>99.677323</td>\n",
       "    </tr>\n",
       "    <tr>\n",
       "      <th>228005</th>\n",
       "      <td>108.394904</td>\n",
       "      <td>108.186714</td>\n",
       "      <td>108.290809</td>\n",
       "    </tr>\n",
       "  </tbody>\n",
       "</table>\n",
       "</div>"
      ],
      "text/plain": [
       "        cat_predictions  xgb_predictions  predictions\n",
       "id                                                   \n",
       "191948       112.643188       112.884872   112.764030\n",
       "143368        91.411422        91.996666    91.704044\n",
       "16664         99.734901        99.682533    99.708717\n",
       "49607         99.685030        99.669617    99.677323\n",
       "228005       108.394904       108.186714   108.290809"
      ]
     },
     "execution_count": 13,
     "metadata": {},
     "output_type": "execute_result"
    }
   ],
   "source": [
    "hold_pred.head()"
   ]
  },
  {
   "cell_type": "markdown",
   "id": "0f4efc77",
   "metadata": {
    "papermill": {
     "duration": 0.007594,
     "end_time": "2023-04-02T09:19:14.067670",
     "exception": false,
     "start_time": "2023-04-02T09:19:14.060076",
     "status": "completed"
    },
    "tags": []
   },
   "source": [
    "# Inference"
   ]
  },
  {
   "cell_type": "code",
   "execution_count": 14,
   "id": "9a08929a",
   "metadata": {
    "execution": {
     "iopub.execute_input": "2023-04-02T09:19:14.085811Z",
     "iopub.status.busy": "2023-04-02T09:19:14.084189Z",
     "iopub.status.idle": "2023-04-02T09:20:12.125644Z",
     "shell.execute_reply": "2023-04-02T09:20:12.124421Z"
    },
    "papermill": {
     "duration": 58.053017,
     "end_time": "2023-04-02T09:20:12.128409",
     "exception": false,
     "start_time": "2023-04-02T09:19:14.075392",
     "status": "completed"
    },
    "tags": []
   },
   "outputs": [
    {
     "name": "stdout",
     "output_type": "stream",
     "text": [
      "0:\tlearn: 0.3151419\ttotal: 16.4ms\tremaining: 23.1s\n",
      "1000:\tlearn: 0.2922708\ttotal: 15.7s\tremaining: 6.47s\n",
      "1414:\tlearn: 0.2922401\ttotal: 22.3s\tremaining: 0us\n"
     ]
    }
   ],
   "source": [
    "new_params = {\n",
    "    'iterations': int(hold_num_trees_cat * 1.25),\n",
    "}\n",
    "\n",
    "last_train = pd.concat([train, hold, original], ignore_index = True)\n",
    "\n",
    "test_cat = CatBoostRegressor(**cat_params2, **new_params)\n",
    "\n",
    "xgb_params3 = xgb_params2.copy()\n",
    "xgb_params3['n_estimators'] = int(xgb_params3['n_estimators'] * 1.25)\n",
    "test_xgb = XGBRegressor(**xgb_params3)\n",
    "\n",
    "test_xgb.fit(last_train[FEATS].astype('float32'), np.log(last_train.cost + 1))\n",
    "test_cat.fit(last_train[CAT_FEATS].astype('float32'), np.log(last_train.cost + 1), plot = False)\n",
    "\n",
    "submission = pd.DataFrame(index = test.id)\n",
    "submission['id'] = submission.index\n",
    "\n",
    "submission['cost_xgb'] = np.exp(test_xgb.predict(test[FEATS].astype('float32'))) - 1\n",
    "submission['cost_cat'] = np.exp(test_cat.predict(test[CAT_FEATS].astype('float32'))) - 1\n",
    "submission['cost'] = (submission['cost_xgb'] + submission['cost_cat']) / 2"
   ]
  },
  {
   "cell_type": "code",
   "execution_count": 15,
   "id": "804d64ac",
   "metadata": {
    "execution": {
     "iopub.execute_input": "2023-04-02T09:20:12.146757Z",
     "iopub.status.busy": "2023-04-02T09:20:12.146435Z",
     "iopub.status.idle": "2023-04-02T09:20:12.157681Z",
     "shell.execute_reply": "2023-04-02T09:20:12.156413Z"
    },
    "papermill": {
     "duration": 0.024243,
     "end_time": "2023-04-02T09:20:12.161253",
     "exception": false,
     "start_time": "2023-04-02T09:20:12.137010",
     "status": "completed"
    },
    "tags": []
   },
   "outputs": [
    {
     "data": {
      "text/html": [
       "<div>\n",
       "<style scoped>\n",
       "    .dataframe tbody tr th:only-of-type {\n",
       "        vertical-align: middle;\n",
       "    }\n",
       "\n",
       "    .dataframe tbody tr th {\n",
       "        vertical-align: top;\n",
       "    }\n",
       "\n",
       "    .dataframe thead th {\n",
       "        text-align: right;\n",
       "    }\n",
       "</style>\n",
       "<table border=\"1\" class=\"dataframe\">\n",
       "  <thead>\n",
       "    <tr style=\"text-align: right;\">\n",
       "      <th></th>\n",
       "      <th>id</th>\n",
       "      <th>cost_xgb</th>\n",
       "      <th>cost_cat</th>\n",
       "      <th>cost</th>\n",
       "    </tr>\n",
       "    <tr>\n",
       "      <th>id</th>\n",
       "      <th></th>\n",
       "      <th></th>\n",
       "      <th></th>\n",
       "      <th></th>\n",
       "    </tr>\n",
       "  </thead>\n",
       "  <tbody>\n",
       "    <tr>\n",
       "      <th>360336</th>\n",
       "      <td>360336</td>\n",
       "      <td>90.134430</td>\n",
       "      <td>90.210890</td>\n",
       "      <td>90.172660</td>\n",
       "    </tr>\n",
       "    <tr>\n",
       "      <th>360337</th>\n",
       "      <td>360337</td>\n",
       "      <td>94.201973</td>\n",
       "      <td>94.277054</td>\n",
       "      <td>94.239513</td>\n",
       "    </tr>\n",
       "    <tr>\n",
       "      <th>360338</th>\n",
       "      <td>360338</td>\n",
       "      <td>94.396187</td>\n",
       "      <td>94.396273</td>\n",
       "      <td>94.396230</td>\n",
       "    </tr>\n",
       "    <tr>\n",
       "      <th>360339</th>\n",
       "      <td>360339</td>\n",
       "      <td>99.006927</td>\n",
       "      <td>99.182333</td>\n",
       "      <td>99.094630</td>\n",
       "    </tr>\n",
       "    <tr>\n",
       "      <th>360340</th>\n",
       "      <td>360340</td>\n",
       "      <td>78.339905</td>\n",
       "      <td>78.381358</td>\n",
       "      <td>78.360631</td>\n",
       "    </tr>\n",
       "  </tbody>\n",
       "</table>\n",
       "</div>"
      ],
      "text/plain": [
       "            id   cost_xgb   cost_cat       cost\n",
       "id                                             \n",
       "360336  360336  90.134430  90.210890  90.172660\n",
       "360337  360337  94.201973  94.277054  94.239513\n",
       "360338  360338  94.396187  94.396273  94.396230\n",
       "360339  360339  99.006927  99.182333  99.094630\n",
       "360340  360340  78.339905  78.381358  78.360631"
      ]
     },
     "execution_count": 15,
     "metadata": {},
     "output_type": "execute_result"
    }
   ],
   "source": [
    "submission.head()"
   ]
  },
  {
   "cell_type": "code",
   "execution_count": 16,
   "id": "3fa5d78e",
   "metadata": {
    "execution": {
     "iopub.execute_input": "2023-04-02T09:20:12.179642Z",
     "iopub.status.busy": "2023-04-02T09:20:12.178856Z",
     "iopub.status.idle": "2023-04-02T09:20:12.657331Z",
     "shell.execute_reply": "2023-04-02T09:20:12.656165Z"
    },
    "papermill": {
     "duration": 0.490712,
     "end_time": "2023-04-02T09:20:12.660409",
     "exception": false,
     "start_time": "2023-04-02T09:20:12.169697",
     "status": "completed"
    },
    "tags": []
   },
   "outputs": [],
   "source": [
    "sub = submission[['id', 'cost']].to_csv('submission.csv', index = False)"
   ]
  },
  {
   "cell_type": "code",
   "execution_count": null,
   "id": "e67c400a",
   "metadata": {
    "papermill": {
     "duration": 0.008799,
     "end_time": "2023-04-02T09:20:12.678392",
     "exception": false,
     "start_time": "2023-04-02T09:20:12.669593",
     "status": "completed"
    },
    "tags": []
   },
   "outputs": [],
   "source": []
  }
 ],
 "metadata": {
  "kernelspec": {
   "display_name": "Python 3",
   "language": "python",
   "name": "python3"
  },
  "language_info": {
   "codemirror_mode": {
    "name": "ipython",
    "version": 3
   },
   "file_extension": ".py",
   "mimetype": "text/x-python",
   "name": "python",
   "nbconvert_exporter": "python",
   "pygments_lexer": "ipython3",
   "version": "3.7.12"
  },
  "papermill": {
   "default_parameters": {},
   "duration": 350.732071,
   "end_time": "2023-04-02T09:20:14.117139",
   "environment_variables": {},
   "exception": null,
   "input_path": "__notebook__.ipynb",
   "output_path": "__notebook__.ipynb",
   "parameters": {},
   "start_time": "2023-04-02T09:14:23.385068",
   "version": "2.4.0"
  }
 },
 "nbformat": 4,
 "nbformat_minor": 5
}
